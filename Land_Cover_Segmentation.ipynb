{
  "cells": [
    {
      "cell_type": "markdown",
      "metadata": {
        "id": "view-in-github",
        "colab_type": "text"
      },
      "source": [
        "<a href=\"https://colab.research.google.com/github/tayyabmujahid/land_cover_classification_unet/blob/main/Land_Cover_Segmentation.ipynb\" target=\"_parent\"><img src=\"https://colab.research.google.com/assets/colab-badge.svg\" alt=\"Open In Colab\"/></a>"
      ]
    },
    {
      "cell_type": "markdown",
      "metadata": {
        "id": "iMO9yi4h71Ey"
      },
      "source": [
        "This is a notebook for training a semantic segementation model for land cover classification <br>\n",
        "Reference\n",
        "https://github.com/tayyabmujahid/land_cover_classification_unet/blob/main/colab_wrapper.ipynb"
      ]
    },
    {
      "cell_type": "code",
      "execution_count": null,
      "metadata": {
        "colab": {
          "base_uri": "https://localhost:8080/"
        },
        "id": "SFx95r8h65zq",
        "outputId": "5666b083-bee0-4473-eea6-87aae5cbb14c"
      },
      "outputs": [
        {
          "output_type": "stream",
          "name": "stdout",
          "text": [
            "Cloning into 'land_cover_classification_unet'...\n",
            "remote: Enumerating objects: 272, done.\u001b[K\n",
            "remote: Counting objects: 100% (84/84), done.\u001b[K\n",
            "remote: Compressing objects: 100% (57/57), done.\u001b[K\n",
            "remote: Total 272 (delta 47), reused 52 (delta 17), pack-reused 188\u001b[K\n",
            "Receiving objects: 100% (272/272), 101.35 MiB | 51.68 MiB/s, done.\n",
            "Resolving deltas: 100% (120/120), done.\n"
          ]
        }
      ],
      "source": [
        "! git clone https://github.com/tayyabmujahid/land_cover_classification_unet.git"
      ]
    },
    {
      "cell_type": "code",
      "execution_count": null,
      "metadata": {
        "id": "UJ-XHSS47EKE"
      },
      "outputs": [],
      "source": [
        "DATA_ROOT = '/content/drive/MyDrive/fsdl_project'\n",
        "DATA_DEST = '/content/land_cover_classification_unet/data'\n",
        "WORKSPACE_ROOT = '/content/land_cover_classification_unet'"
      ]
    },
    {
      "cell_type": "markdown",
      "metadata": {
        "id": "GHUR9gJdw6O3"
      },
      "source": []
    },
    {
      "cell_type": "markdown",
      "metadata": {
        "id": "u3IkNtUN7I4h"
      },
      "source": []
    },
    {
      "cell_type": "code",
      "execution_count": null,
      "metadata": {
        "colab": {
          "base_uri": "https://localhost:8080/"
        },
        "id": "o_a0ti7m7uJT",
        "outputId": "96a3ba93-05e1-4294-e5a7-ad5c8c573387"
      },
      "outputs": [
        {
          "output_type": "stream",
          "name": "stdout",
          "text": [
            "Mounted at /content/drive\n"
          ]
        }
      ],
      "source": [
        "from google.colab import drive\n",
        "drive.mount('/content/drive')"
      ]
    },
    {
      "cell_type": "code",
      "source": [
        "%pip install -q wandb\n",
        "import wandb; wandb.login()"
      ],
      "metadata": {
        "colab": {
          "base_uri": "https://localhost:8080/",
          "height": 422
        },
        "id": "cA7UvOoHOXim",
        "outputId": "aabac5d1-faa4-4514-fafc-4bf24cc9fdb5"
      },
      "execution_count": null,
      "outputs": [
        {
          "output_type": "stream",
          "name": "stdout",
          "text": [
            "\u001b[K     |████████████████████████████████| 1.8 MB 5.1 MB/s \n",
            "\u001b[K     |████████████████████████████████| 162 kB 83.9 MB/s \n",
            "\u001b[K     |████████████████████████████████| 181 kB 92.3 MB/s \n",
            "\u001b[K     |████████████████████████████████| 63 kB 2.2 MB/s \n",
            "\u001b[K     |████████████████████████████████| 158 kB 90.3 MB/s \n",
            "\u001b[K     |████████████████████████████████| 157 kB 99.4 MB/s \n",
            "\u001b[K     |████████████████████████████████| 157 kB 98.5 MB/s \n",
            "\u001b[K     |████████████████████████████████| 157 kB 96.1 MB/s \n",
            "\u001b[K     |████████████████████████████████| 157 kB 98.8 MB/s \n",
            "\u001b[K     |████████████████████████████████| 157 kB 97.4 MB/s \n",
            "\u001b[K     |████████████████████████████████| 157 kB 94.9 MB/s \n",
            "\u001b[K     |████████████████████████████████| 157 kB 95.6 MB/s \n",
            "\u001b[K     |████████████████████████████████| 156 kB 96.6 MB/s \n",
            "\u001b[?25h  Building wheel for pathtools (setup.py) ... \u001b[?25l\u001b[?25hdone\n"
          ]
        },
        {
          "output_type": "stream",
          "name": "stderr",
          "text": [
            "ERROR:wandb.jupyter:Failed to detect the name of this notebook, you can set it manually with the WANDB_NOTEBOOK_NAME environment variable to enable code saving.\n"
          ]
        },
        {
          "output_type": "display_data",
          "data": {
            "text/plain": [
              "<IPython.core.display.Javascript object>"
            ],
            "application/javascript": [
              "\n",
              "        window._wandbApiKey = new Promise((resolve, reject) => {\n",
              "            function loadScript(url) {\n",
              "            return new Promise(function(resolve, reject) {\n",
              "                let newScript = document.createElement(\"script\");\n",
              "                newScript.onerror = reject;\n",
              "                newScript.onload = resolve;\n",
              "                document.body.appendChild(newScript);\n",
              "                newScript.src = url;\n",
              "            });\n",
              "            }\n",
              "            loadScript(\"https://cdn.jsdelivr.net/npm/postmate/build/postmate.min.js\").then(() => {\n",
              "            const iframe = document.createElement('iframe')\n",
              "            iframe.style.cssText = \"width:0;height:0;border:none\"\n",
              "            document.body.appendChild(iframe)\n",
              "            const handshake = new Postmate({\n",
              "                container: iframe,\n",
              "                url: 'https://wandb.ai/authorize'\n",
              "            });\n",
              "            const timeout = setTimeout(() => reject(\"Couldn't auto authenticate\"), 5000)\n",
              "            handshake.then(function(child) {\n",
              "                child.on('authorize', data => {\n",
              "                    clearTimeout(timeout)\n",
              "                    resolve(data)\n",
              "                });\n",
              "            });\n",
              "            })\n",
              "        });\n",
              "    "
            ]
          },
          "metadata": {}
        },
        {
          "output_type": "stream",
          "name": "stderr",
          "text": [
            "\u001b[34m\u001b[1mwandb\u001b[0m: Logging into wandb.ai. (Learn how to deploy a W&B server locally: https://wandb.me/wandb-server)\n",
            "\u001b[34m\u001b[1mwandb\u001b[0m: You can find your API key in your browser here: https://wandb.ai/authorize\n",
            "wandb: Paste an API key from your profile and hit enter, or press ctrl+c to quit: "
          ]
        },
        {
          "name": "stdout",
          "output_type": "stream",
          "text": [
            "··········\n"
          ]
        },
        {
          "output_type": "stream",
          "name": "stderr",
          "text": [
            "\u001b[34m\u001b[1mwandb\u001b[0m: Appending key for api.wandb.ai to your netrc file: /root/.netrc\n"
          ]
        },
        {
          "output_type": "execute_result",
          "data": {
            "text/plain": [
              "True"
            ]
          },
          "metadata": {},
          "execution_count": 5
        }
      ]
    },
    {
      "cell_type": "code",
      "execution_count": null,
      "metadata": {
        "id": "GmO3c-bE2Bn0"
      },
      "outputs": [],
      "source": [
        "# import os\n",
        "\n",
        "# os.environ['KAGGLE_USERNAME'] = \"patdat\" # username from the json file\n",
        "# os.environ['KAGGLE_KEY'] = \"2b6451a5fe4aa3e525c69188544f643f\" # key from the json file\n",
        "# !cd drive/MyDrive/fsdl_project/\n",
        "# !kaggle datasets download -d geoap96/deepglobe2018-landcover-segmentation-traindataset"
      ]
    },
    {
      "cell_type": "code",
      "execution_count": null,
      "metadata": {
        "id": "H1zhOeTK5otB",
        "colab": {
          "base_uri": "https://localhost:8080/"
        },
        "outputId": "09a8832c-0ca9-4922-93fe-fa9986d4d68a"
      },
      "outputs": [
        {
          "output_type": "stream",
          "name": "stdout",
          "text": [
            "Archive:  /content/land_cover_classification_unet/data/deepglobe2018-landcover-segmentation-traindataset.zip\n",
            "  inflating: /content/land_cover_classification_unet/data/data.zip  \n",
            "renamed 'data/data/test_data' -> 'data/test_data'\n",
            "renamed 'data/data/training_data' -> 'data/training_data'\n"
          ]
        }
      ],
      "source": [
        "!/content/land_cover_classification_unet/data_copying.sh"
      ]
    },
    {
      "cell_type": "code",
      "execution_count": null,
      "metadata": {
        "id": "vIwNQFDoU3F5"
      },
      "outputs": [],
      "source": []
    },
    {
      "cell_type": "code",
      "execution_count": null,
      "metadata": {
        "id": "Vu938I8N6Hvy"
      },
      "outputs": [],
      "source": [
        "# !cp $DATA_ROOT/deepglobe2018-landcover-segmentation-traindataset.zip $DATA_DEST\n",
        "# !unzip /content/land_cover_classification_unet/data/deepglobe2018-landcover-segmentation-traindataset.zip -d $DATA_DEST\n",
        "# !unzip -qqq /content/land_cover_classification_unet/data/data.zip -d /content/land_cover_classification_unet/data\n",
        "# %cd $WORKSPACE_ROOT\n",
        "# !mv  -v data/data/* data/\n",
        "# !rm -d data/data/"
      ]
    },
    {
      "cell_type": "code",
      "execution_count": null,
      "metadata": {
        "colab": {
          "base_uri": "https://localhost:8080/"
        },
        "id": "BBVcKrjLXs8j",
        "outputId": "caa4374c-37ff-4967-f0b4-c263c1a19d46"
      },
      "outputs": [
        {
          "output_type": "stream",
          "name": "stdout",
          "text": [
            "Looking in indexes: https://pypi.org/simple, https://us-python.pkg.dev/colab-wheels/public/simple/\n",
            "Collecting scikit-build\n",
            "  Downloading scikit_build-0.15.0-py2.py3-none-any.whl (77 kB)\n",
            "\u001b[K     |████████████████████████████████| 77 kB 3.3 MB/s \n",
            "\u001b[?25hRequirement already satisfied: setuptools>=28.0.0 in /usr/local/lib/python3.7/dist-packages (from scikit-build) (57.4.0)\n",
            "Collecting distro\n",
            "  Downloading distro-1.7.0-py3-none-any.whl (20 kB)\n",
            "Requirement already satisfied: wheel>=0.29.0 in /usr/local/lib/python3.7/dist-packages (from scikit-build) (0.37.1)\n",
            "Requirement already satisfied: packaging in /usr/local/lib/python3.7/dist-packages (from scikit-build) (21.3)\n",
            "Requirement already satisfied: pyparsing!=3.0.5,>=2.0.2 in /usr/local/lib/python3.7/dist-packages (from packaging->scikit-build) (3.0.9)\n",
            "Installing collected packages: distro, scikit-build\n",
            "Successfully installed distro-1.7.0 scikit-build-0.15.0\n",
            "Looking in indexes: https://pypi.org/simple, https://us-python.pkg.dev/colab-wheels/public/simple/\n",
            "Collecting segmentation-models-pytorch\n",
            "  Downloading segmentation_models_pytorch-0.3.0-py3-none-any.whl (97 kB)\n",
            "\u001b[K     |████████████████████████████████| 97 kB 42 kB/s \n",
            "\u001b[?25hRequirement already satisfied: pillow in /usr/local/lib/python3.7/dist-packages (from segmentation-models-pytorch) (7.1.2)\n",
            "Collecting pretrainedmodels==0.7.4\n",
            "  Downloading pretrainedmodels-0.7.4.tar.gz (58 kB)\n",
            "\u001b[K     |████████████████████████████████| 58 kB 5.6 MB/s \n",
            "\u001b[?25hRequirement already satisfied: torchvision>=0.5.0 in /usr/local/lib/python3.7/dist-packages (from segmentation-models-pytorch) (0.13.1+cu113)\n",
            "Collecting timm==0.4.12\n",
            "  Downloading timm-0.4.12-py3-none-any.whl (376 kB)\n",
            "\u001b[K     |████████████████████████████████| 376 kB 25.8 MB/s \n",
            "\u001b[?25hCollecting efficientnet-pytorch==0.7.1\n",
            "  Downloading efficientnet_pytorch-0.7.1.tar.gz (21 kB)\n",
            "Requirement already satisfied: tqdm in /usr/local/lib/python3.7/dist-packages (from segmentation-models-pytorch) (4.64.1)\n",
            "Requirement already satisfied: torch in /usr/local/lib/python3.7/dist-packages (from efficientnet-pytorch==0.7.1->segmentation-models-pytorch) (1.12.1+cu113)\n",
            "Collecting munch\n",
            "  Downloading munch-2.5.0-py2.py3-none-any.whl (10 kB)\n",
            "Requirement already satisfied: typing-extensions in /usr/local/lib/python3.7/dist-packages (from torch->efficientnet-pytorch==0.7.1->segmentation-models-pytorch) (4.1.1)\n",
            "Requirement already satisfied: numpy in /usr/local/lib/python3.7/dist-packages (from torchvision>=0.5.0->segmentation-models-pytorch) (1.21.6)\n",
            "Requirement already satisfied: requests in /usr/local/lib/python3.7/dist-packages (from torchvision>=0.5.0->segmentation-models-pytorch) (2.23.0)\n",
            "Requirement already satisfied: six in /usr/local/lib/python3.7/dist-packages (from munch->pretrainedmodels==0.7.4->segmentation-models-pytorch) (1.15.0)\n",
            "Requirement already satisfied: certifi>=2017.4.17 in /usr/local/lib/python3.7/dist-packages (from requests->torchvision>=0.5.0->segmentation-models-pytorch) (2022.6.15)\n",
            "Requirement already satisfied: idna<3,>=2.5 in /usr/local/lib/python3.7/dist-packages (from requests->torchvision>=0.5.0->segmentation-models-pytorch) (2.10)\n",
            "Requirement already satisfied: urllib3!=1.25.0,!=1.25.1,<1.26,>=1.21.1 in /usr/local/lib/python3.7/dist-packages (from requests->torchvision>=0.5.0->segmentation-models-pytorch) (1.24.3)\n",
            "Requirement already satisfied: chardet<4,>=3.0.2 in /usr/local/lib/python3.7/dist-packages (from requests->torchvision>=0.5.0->segmentation-models-pytorch) (3.0.4)\n",
            "Building wheels for collected packages: efficientnet-pytorch, pretrainedmodels\n",
            "  Building wheel for efficientnet-pytorch (setup.py) ... \u001b[?25l\u001b[?25hdone\n",
            "  Created wheel for efficientnet-pytorch: filename=efficientnet_pytorch-0.7.1-py3-none-any.whl size=16446 sha256=bb812457cac49d663dfdcdeea1d37b040dd496b87b9223b0df84eec65980821b\n",
            "  Stored in directory: /root/.cache/pip/wheels/0e/cc/b2/49e74588263573ff778da58cc99b9c6349b496636a7e165be6\n",
            "  Building wheel for pretrainedmodels (setup.py) ... \u001b[?25l\u001b[?25hdone\n",
            "  Created wheel for pretrainedmodels: filename=pretrainedmodels-0.7.4-py3-none-any.whl size=60965 sha256=500fe9d139f38de4ba17b57a264beef8561713fef0056a6fcec62626fcf228dd\n",
            "  Stored in directory: /root/.cache/pip/wheels/ed/27/e8/9543d42de2740d3544db96aefef63bda3f2c1761b3334f4873\n",
            "Successfully built efficientnet-pytorch pretrainedmodels\n",
            "Installing collected packages: munch, timm, pretrainedmodels, efficientnet-pytorch, segmentation-models-pytorch\n",
            "Successfully installed efficientnet-pytorch-0.7.1 munch-2.5.0 pretrainedmodels-0.7.4 segmentation-models-pytorch-0.3.0 timm-0.4.12\n"
          ]
        }
      ],
      "source": [
        "!pip install scikit-build\n",
        "!pip install segmentation-models-pytorch"
      ]
    },
    {
      "cell_type": "code",
      "execution_count": null,
      "metadata": {
        "colab": {
          "base_uri": "https://localhost:8080/"
        },
        "id": "a1XunUK0X6DK",
        "outputId": "4c8d949d-efd9-46d8-87dd-08d036cf6b2d"
      },
      "outputs": [
        {
          "output_type": "stream",
          "name": "stdout",
          "text": [
            "/content/land_cover_classification_unet\n",
            "yellow: 0.0\n",
            "magenta: 0.0\n",
            "cyan: 0.0\n",
            "black: 0.0\n",
            "white: 0.0\n",
            "blue: 0.0\n",
            "green: 0.0\n",
            "Figure(640x480)\n"
          ]
        }
      ],
      "source": [
        "%matplotlib inline\n",
        "%cd $WORKSPACE_ROOT\n",
        "!python3 distribution.py -p /content/land_cover_classification_unet/data/training_data"
      ]
    },
    {
      "cell_type": "code",
      "execution_count": null,
      "metadata": {
        "colab": {
          "base_uri": "https://localhost:8080/"
        },
        "id": "S7_JmJNS15T0",
        "outputId": "0cde8267-6c7b-4fcb-8eba-1a56dc3036c7"
      },
      "outputs": [
        {
          "output_type": "stream",
          "name": "stdout",
          "text": [
            "INFO: Using device cuda\n",
            "INFO: Network:\n",
            "\t3 input channels\n",
            "\t7 output channels (classes)\n",
            "\tBilinear upscaling\n",
            "INFO: Creating dataset with 10 examples\n",
            "/usr/local/lib/python3.7/dist-packages/torch/utils/data/dataloader.py:566: UserWarning: This DataLoader will create 8 worker processes in total. Our suggested max number of worker in current system is 2, which is smaller than what this DataLoader is going to create. Please be aware that excessive worker creation might get DataLoader running slow or even freeze, lower the worker number to avoid potential slowness/freeze if necessary.\n",
            "  cpuset_checked))\n",
            "INFO: NumExpr defaulting to 2 threads.\n",
            "INFO: Starting training:\n",
            "        Epochs:          100\n",
            "        Batch size:      2\n",
            "        Learning rate:   1e-05\n",
            "        Training size:   8\n",
            "        Validation size: 2\n",
            "        Checkpoints:     True\n",
            "        Device:          cuda\n",
            "        Images scaling:  0.2\n",
            "    \n",
            "Class Count Assessment:   0% 0/4 [00:00<?, ?batch/s]/usr/local/lib/python3.7/dist-packages/torch/utils/data/dataloader.py:566: UserWarning: This DataLoader will create 8 worker processes in total. Our suggested max number of worker in current system is 2, which is smaller than what this DataLoader is going to create. Please be aware that excessive worker creation might get DataLoader running slow or even freeze, lower the worker number to avoid potential slowness/freeze if necessary.\n",
            "  cpuset_checked))\n",
            "Class Count Assessment: 100% 4/4 [00:03<00:00,  1.31batch/s]\n",
            "Class Distribution tensor([0.1262, 0.5109, 0.1634, 1.0000, 0.2079, 0.4608, 0.0000],\n",
            "       device='cuda:0')\n",
            "\u001b[34m\u001b[1mwandb\u001b[0m: Currently logged in as: \u001b[33mtayyabm\u001b[0m (\u001b[33mfsdl2022_project051\u001b[0m). Use \u001b[1m`wandb login --relogin`\u001b[0m to force relogin\n",
            "\u001b[34m\u001b[1mwandb\u001b[0m: Tracking run with wandb version 0.13.3\n",
            "\u001b[34m\u001b[1mwandb\u001b[0m: Run data is saved locally in \u001b[35m\u001b[1m/content/land_cover_classification_unet/wandb/run-20221001_142920-3q3whe3x\u001b[0m\n",
            "\u001b[34m\u001b[1mwandb\u001b[0m: Run \u001b[1m`wandb offline`\u001b[0m to turn off syncing.\n",
            "\u001b[34m\u001b[1mwandb\u001b[0m: Syncing run \u001b[33m01Oct22_142919\u001b[0m\n",
            "\u001b[34m\u001b[1mwandb\u001b[0m: ⭐️ View project at \u001b[34m\u001b[4mhttps://wandb.ai/fsdl2022_project051/land_cover_segmentation\u001b[0m\n",
            "\u001b[34m\u001b[1mwandb\u001b[0m: 🚀 View run at \u001b[34m\u001b[4mhttps://wandb.ai/fsdl2022_project051/land_cover_segmentation/runs/3q3whe3x\u001b[0m\n",
            "Epoch 1/100:   0% 0/8 [00:00<?, ?img/s]/usr/local/lib/python3.7/dist-packages/torch/utils/data/dataloader.py:566: UserWarning: This DataLoader will create 8 worker processes in total. Our suggested max number of worker in current system is 2, which is smaller than what this DataLoader is going to create. Please be aware that excessive worker creation might get DataLoader running slow or even freeze, lower the worker number to avoid potential slowness/freeze if necessary.\n",
            "  cpuset_checked))\n",
            "Epoch 1/100: 100% 8/8 [00:04<00:00,  1.70img/s, Epoch Loss=0.992]\n",
            "INFO: Validation CE Loss: 1.9510130882263184\n",
            "Epoch 2/100: 100% 8/8 [00:03<00:00,  2.37img/s, Epoch Loss=0.925]\n",
            "INFO: Validation CE Loss: 1.947638750076294\n",
            "Epoch 3/100: 100% 8/8 [00:03<00:00,  2.24img/s, Epoch Loss=0.904]\n",
            "INFO: Validation CE Loss: 1.947692632675171\n",
            "Epoch 4/100: 100% 8/8 [00:03<00:00,  2.43img/s, Epoch Loss=0.903]\n",
            "INFO: Validation CE Loss: 1.9419444799423218\n",
            "Epoch 5/100: 100% 8/8 [00:03<00:00,  2.38img/s, Epoch Loss=0.851]\n",
            "INFO: Validation CE Loss: 1.925492763519287\n",
            "INFO: Checkpoint 5 saved !\n",
            "Epoch 6/100: 100% 8/8 [00:03<00:00,  2.55img/s, Epoch Loss=0.831]\n",
            "INFO: Validation CE Loss: 1.9068635702133179\n",
            "Epoch 7/100: 100% 8/8 [00:03<00:00,  2.43img/s, Epoch Loss=0.811]\n",
            "INFO: Validation CE Loss: 1.8962790966033936\n",
            "Epoch 8/100: 100% 8/8 [00:03<00:00,  2.43img/s, Epoch Loss=0.807]\n",
            "INFO: Validation CE Loss: 1.884598731994629\n",
            "Epoch 9/100: 100% 8/8 [00:03<00:00,  2.43img/s, Epoch Loss=0.842]\n",
            "INFO: Validation CE Loss: 1.8676834106445312\n",
            "Epoch 10/100: 100% 8/8 [00:03<00:00,  2.43img/s, Epoch Loss=0.743]\n",
            "INFO: Validation CE Loss: 1.8705354928970337\n",
            "INFO: Checkpoint 10 saved !\n",
            "Epoch 11/100: 100% 8/8 [00:03<00:00,  2.54img/s, Epoch Loss=0.721]\n",
            "INFO: Validation CE Loss: 1.8213318586349487\n",
            "Epoch 12/100: 100% 8/8 [00:03<00:00,  2.38img/s, Epoch Loss=0.712]\n",
            "INFO: Validation CE Loss: 1.7307605743408203\n",
            "Epoch 13/100: 100% 8/8 [00:03<00:00,  2.35img/s, Epoch Loss=0.752]\n",
            "INFO: Validation CE Loss: 1.599416732788086\n",
            "Epoch 14/100: 100% 8/8 [00:03<00:00,  2.40img/s, Epoch Loss=0.75]\n",
            "INFO: Validation CE Loss: 1.4632960557937622\n",
            "Epoch 15/100: 100% 8/8 [00:03<00:00,  2.44img/s, Epoch Loss=0.681]\n",
            "INFO: Validation CE Loss: 1.3462116718292236\n",
            "INFO: Checkpoint 15 saved !\n",
            "Epoch 16/100: 100% 8/8 [00:03<00:00,  2.56img/s, Epoch Loss=0.703]\n",
            "INFO: Validation CE Loss: 1.2755573987960815\n",
            "Epoch 17/100: 100% 8/8 [00:03<00:00,  2.38img/s, Epoch Loss=0.63]\n",
            "INFO: Validation CE Loss: 1.2324962615966797\n",
            "Epoch 18/100: 100% 8/8 [00:03<00:00,  2.26img/s, Epoch Loss=0.691]\n",
            "INFO: Validation CE Loss: 1.2121798992156982\n",
            "Epoch 19/100: 100% 8/8 [00:03<00:00,  2.45img/s, Epoch Loss=0.616]\n",
            "INFO: Validation CE Loss: 1.2415251731872559\n",
            "Epoch 20/100: 100% 8/8 [00:03<00:00,  2.33img/s, Epoch Loss=0.703]\n",
            "INFO: Validation CE Loss: 1.2512127161026\n",
            "INFO: Checkpoint 20 saved !\n",
            "Epoch 21/100: 100% 8/8 [00:03<00:00,  2.53img/s, Epoch Loss=0.659]\n",
            "INFO: Validation CE Loss: 1.2552354335784912\n",
            "Epoch 22/100: 100% 8/8 [00:03<00:00,  2.45img/s, Epoch Loss=0.656]\n",
            "INFO: Validation CE Loss: 1.085273027420044\n",
            "Epoch 23/100: 100% 8/8 [00:03<00:00,  2.43img/s, Epoch Loss=0.689]\n",
            "INFO: Validation CE Loss: 1.0431658029556274\n",
            "Epoch 24/100: 100% 8/8 [00:03<00:00,  2.43img/s, Epoch Loss=0.631]\n",
            "INFO: Validation CE Loss: 1.087623119354248\n",
            "Epoch 25/100: 100% 8/8 [00:03<00:00,  2.43img/s, Epoch Loss=0.644]\n",
            "INFO: Validation CE Loss: 1.1585361957550049\n",
            "INFO: Checkpoint 25 saved !\n",
            "Epoch 26/100: 100% 8/8 [00:03<00:00,  2.58img/s, Epoch Loss=0.564]\n",
            "INFO: Validation CE Loss: 1.1865710020065308\n",
            "Epoch 27/100: 100% 8/8 [00:03<00:00,  2.39img/s, Epoch Loss=0.603]\n",
            "INFO: Validation CE Loss: 1.0996147394180298\n",
            "Epoch 28/100: 100% 8/8 [00:03<00:00,  2.41img/s, Epoch Loss=0.62]\n",
            "INFO: Validation CE Loss: 1.122226595878601\n",
            "Epoch 29/100: 100% 8/8 [00:03<00:00,  2.40img/s, Epoch Loss=0.549]\n",
            "INFO: Validation CE Loss: 1.1332659721374512\n",
            "Epoch 30/100: 100% 8/8 [00:03<00:00,  2.45img/s, Epoch Loss=0.612]\n",
            "INFO: Validation CE Loss: 1.1683881282806396\n",
            "INFO: Checkpoint 30 saved !\n",
            "Epoch 31/100: 100% 8/8 [00:03<00:00,  2.52img/s, Epoch Loss=0.611]\n",
            "INFO: Validation CE Loss: 1.1101467609405518\n",
            "Epoch 32/100: 100% 8/8 [00:03<00:00,  2.36img/s, Epoch Loss=0.515]\n",
            "INFO: Validation CE Loss: 1.0923503637313843\n",
            "Epoch 33/100: 100% 8/8 [00:03<00:00,  2.46img/s, Epoch Loss=0.562]\n",
            "INFO: Validation CE Loss: 1.1007497310638428\n",
            "Epoch 34/100: 100% 8/8 [00:03<00:00,  2.45img/s, Epoch Loss=0.525]\n",
            "INFO: Validation CE Loss: 1.1917897462844849\n",
            "Epoch 35/100: 100% 8/8 [00:03<00:00,  2.47img/s, Epoch Loss=0.5]\n",
            "INFO: Validation CE Loss: 1.1997323036193848\n",
            "INFO: Checkpoint 35 saved !\n",
            "Epoch 36/100: 100% 8/8 [00:03<00:00,  2.52img/s, Epoch Loss=0.489]\n",
            "INFO: Validation CE Loss: 1.1820619106292725\n",
            "Epoch 37/100: 100% 8/8 [00:03<00:00,  2.41img/s, Epoch Loss=0.532]\n",
            "INFO: Validation CE Loss: 1.1485592126846313\n",
            "Epoch 38/100: 100% 8/8 [00:03<00:00,  2.41img/s, Epoch Loss=0.479]\n",
            "INFO: Validation CE Loss: 1.171600103378296\n",
            "Epoch 39/100: 100% 8/8 [00:03<00:00,  2.47img/s, Epoch Loss=0.461]\n",
            "INFO: Validation CE Loss: 1.2639046907424927\n",
            "Epoch 40/100: 100% 8/8 [00:03<00:00,  2.36img/s, Epoch Loss=0.558]\n",
            "INFO: Validation CE Loss: 1.184584379196167\n",
            "INFO: Checkpoint 40 saved !\n",
            "Epoch 41/100: 100% 8/8 [00:03<00:00,  2.54img/s, Epoch Loss=0.502]\n",
            "INFO: Validation CE Loss: 1.0434917211532593\n",
            "Epoch 42/100: 100% 8/8 [00:03<00:00,  2.33img/s, Epoch Loss=0.516]\n",
            "INFO: Validation CE Loss: 1.1028504371643066\n",
            "Epoch 43/100: 100% 8/8 [00:03<00:00,  2.39img/s, Epoch Loss=0.477]\n",
            "INFO: Validation CE Loss: 1.120866060256958\n",
            "Epoch 44/100: 100% 8/8 [00:03<00:00,  2.37img/s, Epoch Loss=0.443]\n",
            "INFO: Validation CE Loss: 1.0889620780944824\n",
            "Epoch 45/100: 100% 8/8 [00:03<00:00,  2.34img/s, Epoch Loss=0.456]\n",
            "INFO: Validation CE Loss: 1.1026054620742798\n",
            "INFO: Checkpoint 45 saved !\n",
            "Epoch 46/100: 100% 8/8 [00:03<00:00,  2.51img/s, Epoch Loss=0.488]\n",
            "INFO: Validation CE Loss: 1.2081209421157837\n",
            "Epoch 47/100: 100% 8/8 [00:03<00:00,  2.34img/s, Epoch Loss=0.479]\n",
            "INFO: Validation CE Loss: 1.1175334453582764\n",
            "Epoch 48/100: 100% 8/8 [00:03<00:00,  2.34img/s, Epoch Loss=0.489]\n",
            "INFO: Validation CE Loss: 1.1098724603652954\n",
            "Epoch 49/100: 100% 8/8 [00:03<00:00,  2.33img/s, Epoch Loss=0.487]\n",
            "INFO: Validation CE Loss: 1.18435800075531\n",
            "Epoch 50/100: 100% 8/8 [00:03<00:00,  2.41img/s, Epoch Loss=0.461]\n",
            "INFO: Validation CE Loss: 1.116851806640625\n",
            "INFO: Checkpoint 50 saved !\n",
            "Epoch 51/100: 100% 8/8 [00:03<00:00,  2.50img/s, Epoch Loss=0.426]\n",
            "INFO: Validation CE Loss: 1.0180299282073975\n",
            "Epoch 52/100: 100% 8/8 [00:03<00:00,  2.29img/s, Epoch Loss=0.494]\n",
            "INFO: Validation CE Loss: 0.9490984082221985\n",
            "Epoch 53/100: 100% 8/8 [00:03<00:00,  2.34img/s, Epoch Loss=0.458]\n",
            "INFO: Validation CE Loss: 1.0944099426269531\n",
            "Epoch 54/100: 100% 8/8 [00:03<00:00,  2.34img/s, Epoch Loss=0.452]\n",
            "INFO: Validation CE Loss: 1.1087108850479126\n",
            "Epoch 55/100: 100% 8/8 [00:03<00:00,  2.31img/s, Epoch Loss=0.458]\n",
            "INFO: Validation CE Loss: 1.035427451133728\n",
            "INFO: Checkpoint 55 saved !\n",
            "Epoch 56/100: 100% 8/8 [00:03<00:00,  2.45img/s, Epoch Loss=0.498]\n",
            "INFO: Validation CE Loss: 1.0009773969650269\n",
            "Epoch 57/100: 100% 8/8 [00:03<00:00,  2.26img/s, Epoch Loss=0.463]\n",
            "INFO: Validation CE Loss: 1.0147507190704346\n",
            "Epoch 58/100: 100% 8/8 [00:03<00:00,  2.27img/s, Epoch Loss=0.382]\n",
            "INFO: Validation CE Loss: 1.0282553434371948\n",
            "Epoch 59/100: 100% 8/8 [00:03<00:00,  2.31img/s, Epoch Loss=0.417]\n",
            "INFO: Validation CE Loss: 1.0873768329620361\n",
            "Epoch 60/100: 100% 8/8 [00:03<00:00,  2.45img/s, Epoch Loss=0.474]\n",
            "INFO: Validation CE Loss: 1.149737000465393\n",
            "INFO: Checkpoint 60 saved !\n",
            "Epoch 61/100: 100% 8/8 [00:03<00:00,  2.54img/s, Epoch Loss=0.401]\n",
            "INFO: Validation CE Loss: 1.142830491065979\n",
            "Epoch 62/100: 100% 8/8 [00:03<00:00,  2.29img/s, Epoch Loss=0.396]\n",
            "INFO: Validation CE Loss: 1.1975899934768677\n",
            "Epoch 63/100: 100% 8/8 [00:03<00:00,  2.35img/s, Epoch Loss=0.42]\n",
            "INFO: Validation CE Loss: 1.1239694356918335\n",
            "Epoch 64/100: 100% 8/8 [00:03<00:00,  2.37img/s, Epoch Loss=0.464]\n",
            "INFO: Validation CE Loss: 1.1073627471923828\n",
            "Epoch 65/100: 100% 8/8 [00:03<00:00,  2.32img/s, Epoch Loss=0.434]\n",
            "INFO: Validation CE Loss: 1.138239860534668\n",
            "INFO: Checkpoint 65 saved !\n",
            "Epoch 66/100: 100% 8/8 [00:03<00:00,  2.53img/s, Epoch Loss=0.373]\n",
            "INFO: Validation CE Loss: 0.9953033328056335\n",
            "Epoch 67/100: 100% 8/8 [00:03<00:00,  2.26img/s, Epoch Loss=0.411]\n",
            "INFO: Validation CE Loss: 0.8774506449699402\n",
            "Epoch 68/100: 100% 8/8 [00:03<00:00,  2.31img/s, Epoch Loss=0.373]\n",
            "INFO: Validation CE Loss: 0.9549809694290161\n",
            "Epoch 69/100: 100% 8/8 [00:03<00:00,  2.35img/s, Epoch Loss=0.422]\n",
            "INFO: Validation CE Loss: 1.103912115097046\n",
            "Epoch 70/100: 100% 8/8 [00:03<00:00,  2.22img/s, Epoch Loss=0.401]\n",
            "INFO: Validation CE Loss: 1.065428376197815\n",
            "INFO: Checkpoint 70 saved !\n",
            "Epoch 71/100: 100% 8/8 [00:03<00:00,  2.52img/s, Epoch Loss=0.452]\n",
            "INFO: Validation CE Loss: 0.9060876965522766\n",
            "Epoch 72/100: 100% 8/8 [00:03<00:00,  2.30img/s, Epoch Loss=0.366]\n",
            "INFO: Validation CE Loss: 0.8972180485725403\n",
            "Epoch 73/100: 100% 8/8 [00:03<00:00,  2.25img/s, Epoch Loss=0.437]\n",
            "INFO: Validation CE Loss: 1.0786714553833008\n",
            "Epoch 74/100: 100% 8/8 [00:03<00:00,  2.29img/s, Epoch Loss=0.42]\n",
            "INFO: Validation CE Loss: 1.1114332675933838\n",
            "Epoch 75/100: 100% 8/8 [00:03<00:00,  2.32img/s, Epoch Loss=0.462]\n",
            "INFO: Validation CE Loss: 0.9197554588317871\n",
            "INFO: Checkpoint 75 saved !\n",
            "Epoch 76/100: 100% 8/8 [00:03<00:00,  2.51img/s, Epoch Loss=0.43]\n",
            "INFO: Validation CE Loss: 0.8929504156112671\n",
            "Epoch 77/100: 100% 8/8 [00:03<00:00,  2.32img/s, Epoch Loss=0.346]\n",
            "INFO: Validation CE Loss: 1.0421602725982666\n",
            "Epoch 78/100: 100% 8/8 [00:03<00:00,  2.37img/s, Epoch Loss=0.348]\n",
            "INFO: Validation CE Loss: 1.0802713632583618\n",
            "Epoch 79/100: 100% 8/8 [00:03<00:00,  2.37img/s, Epoch Loss=0.35]\n",
            "INFO: Validation CE Loss: 1.112610101699829\n",
            "Epoch 80/100: 100% 8/8 [00:03<00:00,  2.42img/s, Epoch Loss=0.382]\n",
            "INFO: Validation CE Loss: 1.053417682647705\n",
            "INFO: Checkpoint 80 saved !\n",
            "Epoch 81/100: 100% 8/8 [00:03<00:00,  2.53img/s, Epoch Loss=0.34]\n",
            "INFO: Validation CE Loss: 0.9934492111206055\n",
            "Epoch 82/100: 100% 8/8 [00:03<00:00,  2.40img/s, Epoch Loss=0.42]\n",
            "INFO: Validation CE Loss: 0.989974319934845\n",
            "Epoch 83/100: 100% 8/8 [00:03<00:00,  2.35img/s, Epoch Loss=0.358]\n",
            "INFO: Validation CE Loss: 1.0894570350646973\n",
            "Epoch 84/100: 100% 8/8 [00:03<00:00,  2.36img/s, Epoch Loss=0.364]\n",
            "INFO: Validation CE Loss: 1.378649353981018\n",
            "Epoch 85/100: 100% 8/8 [00:03<00:00,  2.39img/s, Epoch Loss=0.39]\n",
            "INFO: Validation CE Loss: 1.1390899419784546\n",
            "INFO: Checkpoint 85 saved !\n",
            "Epoch 86/100: 100% 8/8 [00:03<00:00,  2.53img/s, Epoch Loss=0.351]\n",
            "INFO: Validation CE Loss: 1.0088509321212769\n",
            "Epoch 87/100: 100% 8/8 [00:03<00:00,  2.37img/s, Epoch Loss=0.439]\n",
            "INFO: Validation CE Loss: 0.9304928183555603\n",
            "Epoch 88/100: 100% 8/8 [00:03<00:00,  2.36img/s, Epoch Loss=0.328]\n",
            "INFO: Validation CE Loss: 0.9409279823303223\n",
            "Epoch 89/100: 100% 8/8 [00:03<00:00,  2.34img/s, Epoch Loss=0.387]\n",
            "INFO: Validation CE Loss: 0.9763231873512268\n",
            "Epoch 90/100: 100% 8/8 [00:03<00:00,  2.43img/s, Epoch Loss=0.336]\n",
            "INFO: Validation CE Loss: 1.0245776176452637\n",
            "INFO: Checkpoint 90 saved !\n",
            "Epoch 91/100: 100% 8/8 [00:03<00:00,  2.45img/s, Epoch Loss=0.348]\n",
            "INFO: Validation CE Loss: 1.079811930656433\n",
            "Epoch 92/100: 100% 8/8 [00:03<00:00,  2.44img/s, Epoch Loss=0.38]\n",
            "INFO: Validation CE Loss: 1.0097891092300415\n",
            "Epoch 93/100: 100% 8/8 [00:03<00:00,  2.37img/s, Epoch Loss=0.315]\n",
            "INFO: Validation CE Loss: 0.9654258489608765\n",
            "Epoch 94/100: 100% 8/8 [00:03<00:00,  2.36img/s, Epoch Loss=0.373]\n",
            "INFO: Validation CE Loss: 1.025977611541748\n",
            "Epoch 95/100: 100% 8/8 [00:03<00:00,  2.41img/s, Epoch Loss=0.389]\n",
            "INFO: Validation CE Loss: 1.065350890159607\n",
            "INFO: Checkpoint 95 saved !\n",
            "Epoch 96/100: 100% 8/8 [00:03<00:00,  2.59img/s, Epoch Loss=0.402]\n",
            "INFO: Validation CE Loss: 0.9513042569160461\n",
            "Epoch 97/100: 100% 8/8 [00:03<00:00,  2.39img/s, Epoch Loss=0.362]\n",
            "INFO: Validation CE Loss: 0.9274367690086365\n",
            "Epoch 98/100: 100% 8/8 [00:03<00:00,  2.34img/s, Epoch Loss=0.356]\n",
            "INFO: Validation CE Loss: 0.9278265237808228\n",
            "Epoch 99/100: 100% 8/8 [00:03<00:00,  2.35img/s, Epoch Loss=0.371]\n",
            "INFO: Validation CE Loss: 0.9078821539878845\n",
            "Epoch 100/100: 100% 8/8 [00:03<00:00,  2.40img/s, Epoch Loss=0.324]\n",
            "INFO: Validation CE Loss: 0.9159446358680725\n",
            "INFO: Checkpoint 100 saved !\n"
          ]
        }
      ],
      "source": [
        "!python3 train.py -e 100 -v 20.0 -l 1e-5 -b 2 -s 0.2"
      ]
    },
    {
      "cell_type": "code",
      "execution_count": null,
      "metadata": {
        "id": "gNm9dzOA1_pn"
      },
      "outputs": [],
      "source": []
    },
    {
      "cell_type": "markdown",
      "source": [
        "## EDA"
      ],
      "metadata": {
        "id": "l_QQ0W42bFHR"
      }
    },
    {
      "cell_type": "code",
      "execution_count": null,
      "metadata": {
        "id": "qnSiumo7Je5i"
      },
      "outputs": [],
      "source": [
        "import os\n",
        "import logging\n",
        "from land_cover_classification_unet.utils.dataset import BasicDataset\n",
        "from torch.utils.data import DataLoader, random_split"
      ]
    },
    {
      "cell_type": "code",
      "source": [
        "logging.basicConfig(filename='app.log',\n",
        "                    level=logging.INFO,\n",
        "                    force=True, # Resets any previous configuration\n",
        "                    )"
      ],
      "metadata": {
        "id": "g4opg9ULmrqV"
      },
      "execution_count": null,
      "outputs": []
    },
    {
      "cell_type": "code",
      "execution_count": null,
      "metadata": {
        "id": "QIBuxpIPSeg6"
      },
      "outputs": [],
      "source": [
        "TRAINING_DATA_IMAGES = '/content/land_cover_classification_unet/data/training_data/images'\n",
        "TRAINING_DATA_MASKS = '/content/land_cover_classification_unet/data/training_data/masks'\n",
        "\n",
        "TRAINING_DATA_IMAGES_SS = '/content/land_cover_classification_unet/data/img_subset'\n",
        "TRAINING_DATA_MASKS_SS = '/content/land_cover_classification_unet/data/masks_subset'"
      ]
    },
    {
      "cell_type": "code",
      "execution_count": null,
      "metadata": {
        "id": "aMILkvsIUB7P"
      },
      "outputs": [],
      "source": [
        "dataset = BasicDataset(imgs_dir = TRAINING_DATA_IMAGES_SS,\n",
        "                       masks_dir = TRAINING_DATA_MASKS_SS)\n",
        "\n",
        "train_loader = DataLoader(dataset, batch_size=2, shuffle=True, num_workers=8, pin_memory=True)\n",
        "# val_loader = DataLoader(val, batch_size=batch_size, shuffle=False, num_workers=8, pin_memory=True, drop_last=True)"
      ]
    },
    {
      "cell_type": "code",
      "source": [
        "for data in train_loader:\n",
        "    print(data)"
      ],
      "metadata": {
        "colab": {
          "base_uri": "https://localhost:8080/",
          "height": 566
        },
        "id": "7Lv0lvgak419",
        "outputId": "814b2a54-51a1-4c49-ef4d-842e911de5a2"
      },
      "execution_count": null,
      "outputs": [
        {
          "output_type": "error",
          "ename": "AssertionError",
          "evalue": "ignored",
          "traceback": [
            "\u001b[0;31m---------------------------------------------------------------------------\u001b[0m",
            "\u001b[0;31mAssertionError\u001b[0m                            Traceback (most recent call last)",
            "\u001b[0;32m<ipython-input-51-cf2690590479>\u001b[0m in \u001b[0;36m<module>\u001b[0;34m\u001b[0m\n\u001b[0;32m----> 1\u001b[0;31m \u001b[0;32mfor\u001b[0m \u001b[0mdata\u001b[0m \u001b[0;32min\u001b[0m \u001b[0mtrain_loader\u001b[0m\u001b[0;34m:\u001b[0m\u001b[0;34m\u001b[0m\u001b[0;34m\u001b[0m\u001b[0m\n\u001b[0m\u001b[1;32m      2\u001b[0m     \u001b[0mprint\u001b[0m\u001b[0;34m(\u001b[0m\u001b[0mdata\u001b[0m\u001b[0;34m)\u001b[0m\u001b[0;34m\u001b[0m\u001b[0;34m\u001b[0m\u001b[0m\n",
            "\u001b[0;32m/usr/local/lib/python3.7/dist-packages/torch/utils/data/dataloader.py\u001b[0m in \u001b[0;36m__next__\u001b[0;34m(self)\u001b[0m\n\u001b[1;32m    679\u001b[0m                 \u001b[0;31m# TODO(https://github.com/pytorch/pytorch/issues/76750)\u001b[0m\u001b[0;34m\u001b[0m\u001b[0;34m\u001b[0m\u001b[0;34m\u001b[0m\u001b[0m\n\u001b[1;32m    680\u001b[0m                 \u001b[0mself\u001b[0m\u001b[0;34m.\u001b[0m\u001b[0m_reset\u001b[0m\u001b[0;34m(\u001b[0m\u001b[0;34m)\u001b[0m  \u001b[0;31m# type: ignore[call-arg]\u001b[0m\u001b[0;34m\u001b[0m\u001b[0;34m\u001b[0m\u001b[0m\n\u001b[0;32m--> 681\u001b[0;31m             \u001b[0mdata\u001b[0m \u001b[0;34m=\u001b[0m \u001b[0mself\u001b[0m\u001b[0;34m.\u001b[0m\u001b[0m_next_data\u001b[0m\u001b[0;34m(\u001b[0m\u001b[0;34m)\u001b[0m\u001b[0;34m\u001b[0m\u001b[0;34m\u001b[0m\u001b[0m\n\u001b[0m\u001b[1;32m    682\u001b[0m             \u001b[0mself\u001b[0m\u001b[0;34m.\u001b[0m\u001b[0m_num_yielded\u001b[0m \u001b[0;34m+=\u001b[0m \u001b[0;36m1\u001b[0m\u001b[0;34m\u001b[0m\u001b[0;34m\u001b[0m\u001b[0m\n\u001b[1;32m    683\u001b[0m             \u001b[0;32mif\u001b[0m \u001b[0mself\u001b[0m\u001b[0;34m.\u001b[0m\u001b[0m_dataset_kind\u001b[0m \u001b[0;34m==\u001b[0m \u001b[0m_DatasetKind\u001b[0m\u001b[0;34m.\u001b[0m\u001b[0mIterable\u001b[0m \u001b[0;32mand\u001b[0m\u001b[0;31m \u001b[0m\u001b[0;31m\\\u001b[0m\u001b[0;34m\u001b[0m\u001b[0;34m\u001b[0m\u001b[0m\n",
            "\u001b[0;32m/usr/local/lib/python3.7/dist-packages/torch/utils/data/dataloader.py\u001b[0m in \u001b[0;36m_next_data\u001b[0;34m(self)\u001b[0m\n\u001b[1;32m   1374\u001b[0m             \u001b[0;32melse\u001b[0m\u001b[0;34m:\u001b[0m\u001b[0;34m\u001b[0m\u001b[0;34m\u001b[0m\u001b[0m\n\u001b[1;32m   1375\u001b[0m                 \u001b[0;32mdel\u001b[0m \u001b[0mself\u001b[0m\u001b[0;34m.\u001b[0m\u001b[0m_task_info\u001b[0m\u001b[0;34m[\u001b[0m\u001b[0midx\u001b[0m\u001b[0;34m]\u001b[0m\u001b[0;34m\u001b[0m\u001b[0;34m\u001b[0m\u001b[0m\n\u001b[0;32m-> 1376\u001b[0;31m                 \u001b[0;32mreturn\u001b[0m \u001b[0mself\u001b[0m\u001b[0;34m.\u001b[0m\u001b[0m_process_data\u001b[0m\u001b[0;34m(\u001b[0m\u001b[0mdata\u001b[0m\u001b[0;34m)\u001b[0m\u001b[0;34m\u001b[0m\u001b[0;34m\u001b[0m\u001b[0m\n\u001b[0m\u001b[1;32m   1377\u001b[0m \u001b[0;34m\u001b[0m\u001b[0m\n\u001b[1;32m   1378\u001b[0m     \u001b[0;32mdef\u001b[0m \u001b[0m_try_put_index\u001b[0m\u001b[0;34m(\u001b[0m\u001b[0mself\u001b[0m\u001b[0;34m)\u001b[0m\u001b[0;34m:\u001b[0m\u001b[0;34m\u001b[0m\u001b[0;34m\u001b[0m\u001b[0m\n",
            "\u001b[0;32m/usr/local/lib/python3.7/dist-packages/torch/utils/data/dataloader.py\u001b[0m in \u001b[0;36m_process_data\u001b[0;34m(self, data)\u001b[0m\n\u001b[1;32m   1400\u001b[0m         \u001b[0mself\u001b[0m\u001b[0;34m.\u001b[0m\u001b[0m_try_put_index\u001b[0m\u001b[0;34m(\u001b[0m\u001b[0;34m)\u001b[0m\u001b[0;34m\u001b[0m\u001b[0;34m\u001b[0m\u001b[0m\n\u001b[1;32m   1401\u001b[0m         \u001b[0;32mif\u001b[0m \u001b[0misinstance\u001b[0m\u001b[0;34m(\u001b[0m\u001b[0mdata\u001b[0m\u001b[0;34m,\u001b[0m \u001b[0mExceptionWrapper\u001b[0m\u001b[0;34m)\u001b[0m\u001b[0;34m:\u001b[0m\u001b[0;34m\u001b[0m\u001b[0;34m\u001b[0m\u001b[0m\n\u001b[0;32m-> 1402\u001b[0;31m             \u001b[0mdata\u001b[0m\u001b[0;34m.\u001b[0m\u001b[0mreraise\u001b[0m\u001b[0;34m(\u001b[0m\u001b[0;34m)\u001b[0m\u001b[0;34m\u001b[0m\u001b[0;34m\u001b[0m\u001b[0m\n\u001b[0m\u001b[1;32m   1403\u001b[0m         \u001b[0;32mreturn\u001b[0m \u001b[0mdata\u001b[0m\u001b[0;34m\u001b[0m\u001b[0;34m\u001b[0m\u001b[0m\n\u001b[1;32m   1404\u001b[0m \u001b[0;34m\u001b[0m\u001b[0m\n",
            "\u001b[0;32m/usr/local/lib/python3.7/dist-packages/torch/_utils.py\u001b[0m in \u001b[0;36mreraise\u001b[0;34m(self)\u001b[0m\n\u001b[1;32m    459\u001b[0m             \u001b[0;31m# instantiate since we don't know how to\u001b[0m\u001b[0;34m\u001b[0m\u001b[0;34m\u001b[0m\u001b[0;34m\u001b[0m\u001b[0m\n\u001b[1;32m    460\u001b[0m             \u001b[0;32mraise\u001b[0m \u001b[0mRuntimeError\u001b[0m\u001b[0;34m(\u001b[0m\u001b[0mmsg\u001b[0m\u001b[0;34m)\u001b[0m \u001b[0;32mfrom\u001b[0m \u001b[0;32mNone\u001b[0m\u001b[0;34m\u001b[0m\u001b[0;34m\u001b[0m\u001b[0m\n\u001b[0;32m--> 461\u001b[0;31m         \u001b[0;32mraise\u001b[0m \u001b[0mexception\u001b[0m\u001b[0;34m\u001b[0m\u001b[0;34m\u001b[0m\u001b[0m\n\u001b[0m\u001b[1;32m    462\u001b[0m \u001b[0;34m\u001b[0m\u001b[0m\n\u001b[1;32m    463\u001b[0m \u001b[0;34m\u001b[0m\u001b[0m\n",
            "\u001b[0;31mAssertionError\u001b[0m: Caught AssertionError in DataLoader worker process 0.\nOriginal Traceback (most recent call last):\n  File \"/usr/local/lib/python3.7/dist-packages/torch/utils/data/_utils/worker.py\", line 302, in _worker_loop\n    data = fetcher.fetch(index)\n  File \"/usr/local/lib/python3.7/dist-packages/torch/utils/data/_utils/fetch.py\", line 49, in fetch\n    data = [self.dataset[idx] for idx in possibly_batched_index]\n  File \"/usr/local/lib/python3.7/dist-packages/torch/utils/data/_utils/fetch.py\", line 49, in <listcomp>\n    data = [self.dataset[idx] for idx in possibly_batched_index]\n  File \"/content/land_cover_classification_unet/utils/dataset.py\", line 97, in __getitem__\n    f'Either no mask or multiple masks found for the ID {idx}: {mask_file}'\nAssertionError: Either no mask or multiple masks found for the ID 6399: []\n"
          ]
        }
      ]
    },
    {
      "cell_type": "code",
      "source": [
        "os.path.splitext('104113_sat.jpg')"
      ],
      "metadata": {
        "colab": {
          "base_uri": "https://localhost:8080/"
        },
        "id": "RIjBrjY3nMNg",
        "outputId": "e34262df-598c-4f81-c208-afcba4e415f0"
      },
      "execution_count": null,
      "outputs": [
        {
          "output_type": "execute_result",
          "data": {
            "text/plain": [
              "('104113_sat', '.jpg')"
            ]
          },
          "metadata": {},
          "execution_count": 39
        }
      ]
    },
    {
      "cell_type": "code",
      "execution_count": null,
      "metadata": {
        "colab": {
          "base_uri": "https://localhost:8080/"
        },
        "id": "Xw2f8lMEUD6N",
        "outputId": "e4650fae-5d62-4c90-cc89-2b8a1c6a1c42"
      },
      "outputs": [
        {
          "output_type": "execute_result",
          "data": {
            "text/plain": [
              "683"
            ]
          },
          "metadata": {},
          "execution_count": 16
        }
      ],
      "source": [
        "def visualize(image_paths):\n",
        "    n_images = len(image_paths)\n",
        "    plt.figure(figsize=(20,8))\n",
        "    for idx, (name, image) in enumerate(images.items()):\n",
        "        plt.subplot(1, n_images, idx + 1)\n",
        "        plt.xticks([]); \n",
        "        plt.yticks([])\n",
        "        # get title from the parameter names\n",
        "        plt.title(name.replace('_',' ').title(), fontsize=20)\n",
        "        plt.imshow(image)\n",
        "    plt.show()"
      ]
    },
    {
      "cell_type": "code",
      "execution_count": null,
      "metadata": {
        "id": "jtzmeS9EUbGG",
        "colab": {
          "base_uri": "https://localhost:8080/",
          "height": 109
        },
        "outputId": "28a8335f-8be1-4545-b0f0-95cffb268c46"
      },
      "outputs": [
        {
          "output_type": "stream",
          "name": "stderr",
          "text": [
            "\u001b[34m\u001b[1mwandb\u001b[0m: Currently logged in as: \u001b[33mtayyabm\u001b[0m (\u001b[33mfsdl2022_project051\u001b[0m). Use \u001b[1m`wandb login --relogin`\u001b[0m to force relogin\n"
          ]
        },
        {
          "output_type": "display_data",
          "data": {
            "text/plain": [
              "<IPython.core.display.HTML object>"
            ],
            "text/html": [
              "Tracking run with wandb version 0.13.3"
            ]
          },
          "metadata": {}
        },
        {
          "output_type": "display_data",
          "data": {
            "text/plain": [
              "<IPython.core.display.HTML object>"
            ],
            "text/html": [
              "Run data is saved locally in <code>/content/land_cover_classification_unet/wandb/run-20221001_080721-3ka1y8nq</code>"
            ]
          },
          "metadata": {}
        },
        {
          "output_type": "display_data",
          "data": {
            "text/plain": [
              "<IPython.core.display.HTML object>"
            ],
            "text/html": [
              "Syncing run <strong><a href=\"https://wandb.ai/fsdl2022_project051/land_cover_segmentation/runs/3ka1y8nq\" target=\"_blank\">chocolate-terrain-2</a></strong> to <a href=\"https://wandb.ai/fsdl2022_project051/land_cover_segmentation\" target=\"_blank\">Weights & Biases</a> (<a href=\"https://wandb.me/run\" target=\"_blank\">docs</a>)<br/>"
            ]
          },
          "metadata": {}
        },
        {
          "output_type": "execute_result",
          "data": {
            "text/html": [
              "<button onClick=\"this.nextSibling.style.display='block';this.style.display='none';\">Display W&B run</button><iframe src=\"https://wandb.ai/fsdl2022_project051/land_cover_segmentation/runs/3ka1y8nq?jupyter=true\" style=\"border:none;width:100%;height:420px;display:none;\"></iframe>"
            ],
            "text/plain": [
              "<wandb.sdk.wandb_run.Run at 0x7f99801d0350>"
            ]
          },
          "metadata": {},
          "execution_count": 15
        }
      ],
      "source": [
        "wandb.init(job_type='Training',entity=\"fsdl2022_project051\",project='land_cover_segmentation')"
      ]
    },
    {
      "cell_type": "code",
      "source": [
        "list(0.67)"
      ],
      "metadata": {
        "colab": {
          "base_uri": "https://localhost:8080/",
          "height": 167
        },
        "id": "8Lg-SypyY5Ko",
        "outputId": "e363b336-1139-4dd0-dbdb-40744fa8d09a"
      },
      "execution_count": null,
      "outputs": [
        {
          "output_type": "error",
          "ename": "TypeError",
          "evalue": "ignored",
          "traceback": [
            "\u001b[0;31m---------------------------------------------------------------------------\u001b[0m",
            "\u001b[0;31mTypeError\u001b[0m                                 Traceback (most recent call last)",
            "\u001b[0;32m<ipython-input-9-b04296b00d95>\u001b[0m in \u001b[0;36m<module>\u001b[0;34m\u001b[0m\n\u001b[0;32m----> 1\u001b[0;31m \u001b[0mlist\u001b[0m\u001b[0;34m(\u001b[0m\u001b[0;36m0.67\u001b[0m\u001b[0;34m)\u001b[0m\u001b[0;34m\u001b[0m\u001b[0;34m\u001b[0m\u001b[0m\n\u001b[0m",
            "\u001b[0;31mTypeError\u001b[0m: 'float' object is not iterable"
          ]
        }
      ]
    },
    {
      "cell_type": "code",
      "source": [],
      "metadata": {
        "id": "LC8IDR6a8vkB"
      },
      "execution_count": null,
      "outputs": []
    }
  ],
  "metadata": {
    "accelerator": "GPU",
    "colab": {
      "provenance": [],
      "authorship_tag": "ABX9TyMr/r2/HDcbVkUL6lxtTGSR",
      "include_colab_link": true
    },
    "kernelspec": {
      "display_name": "Python 3",
      "name": "python3"
    },
    "language_info": {
      "name": "python"
    }
  },
  "nbformat": 4,
  "nbformat_minor": 0
}